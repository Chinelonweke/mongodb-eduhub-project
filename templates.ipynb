{
 "cells": [
  {
   "cell_type": "code",
   "execution_count": null,
   "id": "aaa18b74",
   "metadata": {},
   "outputs": [],
   "source": [
    "import os\n",
    "\n",
    "folders = [\"notebooks\", \"src\", \"data\", \"docs\"]\n",
    "files = [\n",
    "    \"README.md\",\n",
    "    \".gitignore\",\n",
    "    \"notebooks/eduhub_mongodb_project.ipynb\",\n",
    "    \"src/eduhub_queries.py\",\n",
    "    \"data/sample_data.json\",\n",
    "    \"data/schema_validation.json\",\n",
    "    \"docs/performance_analysis.md\",\n",
    "    \"docs/presentation.pptx\",\n",
    "    \"docs/test_results.md\"\n",
    "]\n",
    "\n",
    "# Create folders\n",
    "for folder in folders:\n",
    "    os.makedirs(folder, exist_ok=True)\n",
    "\n",
    "# Create empty files\n",
    "for file in files:\n",
    "    with open(file, \"w\") as f:\n",
    "        pass\n"
   ]
  }
 ],
 "metadata": {
  "language_info": {
   "name": "python"
  }
 },
 "nbformat": 4,
 "nbformat_minor": 5
}
